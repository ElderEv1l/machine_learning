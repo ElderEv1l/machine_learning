{
  "nbformat": 4,
  "nbformat_minor": 0,
  "metadata": {
    "colab": {
      "provenance": []
    },
    "kernelspec": {
      "display_name": "Python 3",
      "language": "python",
      "name": "python3"
    },
    "language_info": {
      "codemirror_mode": {
        "name": "ipython",
        "version": 3
      },
      "file_extension": ".py",
      "mimetype": "text/x-python",
      "name": "python",
      "nbconvert_exporter": "python",
      "pygments_lexer": "ipython3",
      "version": "3.7.4"
    }
  },
  "cells": [
    {
      "cell_type": "code",
      "source": [
        "import numpy as np\n",
        "import math\n",
        "import matplotlib.pyplot as plt"
      ],
      "metadata": {
        "id": "SVrFuefYoxBZ"
      },
      "execution_count": null,
      "outputs": []
    },
    {
      "cell_type": "markdown",
      "metadata": {
        "id": "BsNwjQDRfmLY"
      },
      "source": [
        "# Задание 1"
      ]
    },
    {
      "cell_type": "markdown",
      "metadata": {
        "id": "wu6r1-s7fmLe"
      },
      "source": [
        "---"
      ]
    },
    {
      "cell_type": "markdown",
      "metadata": {
        "id": "zxRIdPO9gYyX"
      },
      "source": [
        "Напишите функцию linan(), которая будет решать систему линейных уравнений вида:\n",
        "\n",
        "\\begin{matrix} a_{11}x+a_{12}y=b_{1}&(1) \\\\ a_{21}x+a_{22}y=b_{2} &(2) \\end{matrix}\n",
        "​\n",
        "На вход программа должна принимать 2 строки.\n",
        "\n",
        "Каждая строка содержит 3 действительных числа через пробел: коэффициенты a и b.\n",
        "\n",
        "На выходе программа должна выдавать значения x и y в одну строку через пробел.\n",
        "\n",
        "\n",
        "Примечание 1. Для разделения строки на отдельные элементы используйте функцию split()\n",
        "\n",
        "Примечание 2. В качестве разделителя между целой и дробной частью используйте точку, например 0.2"
      ]
    },
    {
      "cell_type": "code",
      "metadata": {
        "id": "6sxlcLbVlrjl",
        "colab": {
          "base_uri": "https://localhost:8080/"
        },
        "outputId": "55c8e7da-737f-4614-feb6-45701fe0fa5a"
      },
      "source": [
        "def linan():\n",
        "  a11, a12, b1 = [int(x) for x in input(\"Введите коэффициенты первого уравнения: \").split()]\n",
        "  a21, a22, b2 = [int(x) for x in input(\"Введите коэффициенты второго уравнения: \").split()]\n",
        "  print()\n",
        "\n",
        "  d = a11 * a22 - a12 * a21\n",
        "  if d != 0:\n",
        "    dx = b1 * a22 - a12 * b2\n",
        "    dy = a11 * b2 - b1 * a21\n",
        "    print(round(dx / d, 3), round(dy / d, 3))\n",
        "  else:\n",
        "    print(\"Нет решений!\")\n",
        "\n",
        "\n",
        "linan()"
      ],
      "execution_count": null,
      "outputs": [
        {
          "output_type": "stream",
          "name": "stdout",
          "text": [
            "Введите коэффициенты первого уравнения: 1 2 3\n",
            "Введите коэффициенты второго уравнения: 4 5 6\n",
            "\n",
            "-1.0 2.0\n"
          ]
        }
      ]
    },
    {
      "cell_type": "markdown",
      "metadata": {
        "id": "wLoVDMQnfmOv"
      },
      "source": [
        "# Задание 2"
      ]
    },
    {
      "cell_type": "markdown",
      "metadata": {
        "id": "6bmt_YF3fmOw"
      },
      "source": [
        "Напишите функцию `decorate_matrix`, которая получает на вход одно целое число больше единицы. Функция должна возвращать матрицу n на n, у которой на границах стоят единицы, а на всех остальных позициях(если остались позиции не на границах) стоят нули.\n",
        "\n",
        "Нужно сделать без использования  циклов.\n",
        "\n",
        "```\n",
        "# ожидаемый результат для аргумента 5\n",
        "array([[1., 1., 1., 1., 1.],\n",
        "[1., 0., 0., 0., 1.],\n",
        "[1., 0., 0., 0., 1.],\n",
        "[1., 0., 0., 0., 1.],\n",
        "[1., 1., 1., 1., 1.]])\n",
        "```\n",
        "\n"
      ]
    },
    {
      "cell_type": "markdown",
      "source": [
        "Обратите внимание, что ожидается массив numpy"
      ],
      "metadata": {
        "id": "FjeIqKk-bhc0"
      }
    },
    {
      "cell_type": "code",
      "source": [
        "def decorate_matrix(n: int):\n",
        "  matrix = np.ones((n, n), dtype=int)\n",
        "  matrix[1: n - 1, 1: n - 1] = 0\n",
        "  return matrix\n",
        "\n",
        "\n",
        "print(decorate_matrix(int(input(\"Введите размер матрицы:  \"))))"
      ],
      "metadata": {
        "colab": {
          "base_uri": "https://localhost:8080/"
        },
        "id": "wzuEeXbKoV_j",
        "outputId": "078eac33-441a-436e-8c83-6fe2b1074994"
      },
      "execution_count": null,
      "outputs": [
        {
          "output_type": "stream",
          "name": "stdout",
          "text": [
            "Введите размер матрицы:  5\n",
            "[[1 1 1 1 1]\n",
            " [1 0 0 0 1]\n",
            " [1 0 0 0 1]\n",
            " [1 0 0 0 1]\n",
            " [1 1 1 1 1]]\n"
          ]
        }
      ]
    },
    {
      "cell_type": "markdown",
      "metadata": {
        "id": "75sxny1zSCbl"
      },
      "source": [
        "# Задание 3"
      ]
    },
    {
      "cell_type": "markdown",
      "metadata": {
        "id": "2Xq1tBBAS5UJ"
      },
      "source": [
        "1) реализуйте 2 функции:\n",
        "\n",
        "$f(x) = (x+a)^2 - b$\n",
        "\n",
        "$g(x) = |f(x)|$\n",
        "\n",
        "2) Найдите аргументы, при которых достигается минимум функций $f(x)$ и $g(x)$\n",
        "\n",
        "Пример.\n",
        "Входные значение: $a=3$ и $b=4$\n",
        "\n",
        "Выходные значения:\n",
        "\n",
        "`-3.0 -1.0`"
      ]
    },
    {
      "cell_type": "code",
      "source": [
        "def f(x, a, b):\n",
        "  return (x + a) ** 2 - b\n",
        "\n",
        "def g(x, a, b):\n",
        "  return abs(f(x, a, b))"
      ],
      "metadata": {
        "id": "oEP0-6qSulcG"
      },
      "execution_count": null,
      "outputs": []
    },
    {
      "cell_type": "code",
      "source": [
        "def golden_ration_minimize(f, a, b):\n",
        "    l, r = (-a - 0.1, -a + 15)\n",
        "\n",
        "    x1 = l + 0.381966011*(r - l)\n",
        "    x2 = l + 0.618033989*(r - l)\n",
        "    f1 = f(x1, a, b)\n",
        "    f2 = f(x2, a, b)\n",
        "\n",
        "    while r - l > 0.000000001:\n",
        "        if f1 >= f2:\n",
        "            y_min = f2\n",
        "            l = x1\n",
        "            x1 = x2\n",
        "            x2 = l + (r - x2)\n",
        "            f1 = f2\n",
        "            f2 = f(x2, a, b)\n",
        "        else:\n",
        "            y_min = f1\n",
        "            r = x2\n",
        "            x2 = x1\n",
        "            x1 = r - (x1 - l)\n",
        "            f2 = f1\n",
        "            f1 = f(x1, a, b)\n",
        "\n",
        "    return round((l + r) / 2, 4), round(y_min, 4)"
      ],
      "metadata": {
        "id": "Xdb0vGgMV1f7"
      },
      "execution_count": null,
      "outputs": []
    },
    {
      "cell_type": "code",
      "source": [
        "a, b = (int(x) for x in input(\"Введите параметры a и b через пробел:  \").split())\n",
        "\n",
        "x_for_f, y_for_f = golden_ration_minimize(f, a, b)\n",
        "x_for_g, y_for_g = golden_ration_minimize(g, a, b)\n",
        "\n",
        "print(f\"\\nПри x = {x_for_f} достигается минимум ф-ции f(x)\")\n",
        "\n",
        "if y_for_f >= 0:\n",
        "  print(f\"При x = {x_for_g} достигается минимум ф-ции g(x)\")\n",
        "else:\n",
        "  second_x_for_g = 2*x_for_f - x_for_g\n",
        "  print(f\"При x = {second_x_for_g} и x = {x_for_g} достигается минимум ф-ции g(x)\")"
      ],
      "metadata": {
        "colab": {
          "base_uri": "https://localhost:8080/"
        },
        "id": "vTC270taJZXM",
        "outputId": "076fc5ed-8c1d-40d8-aa5f-7542edee5a12"
      },
      "execution_count": null,
      "outputs": [
        {
          "output_type": "stream",
          "name": "stdout",
          "text": [
            "Введите параметры a и b через пробел:  3 4\n",
            "\n",
            "При x = -3.0004 достигается минимум ф-ции f(x)\n",
            "При x = -5.0013 и x = -0.9995 достигается минимум ф-ции g(x)\n"
          ]
        }
      ]
    },
    {
      "cell_type": "markdown",
      "metadata": {
        "id": "efml9GzISC9Q"
      },
      "source": [
        "# Задание 4"
      ]
    },
    {
      "cell_type": "markdown",
      "metadata": {
        "id": "SDZvKcsTVbAW"
      },
      "source": [
        "Постройте графики для функций из предыдущего задания и отметьте другим цветом на графиках точки найденных минимумов."
      ]
    },
    {
      "cell_type": "code",
      "source": [
        "x_for_graph = np.linspace(-a - 12, -a + 12, 100)\n",
        "\n",
        "plt.plot(x_for_graph, f(x_for_graph, a, b), label='f(x)')\n",
        "plt.scatter(x_for_f, y_for_f, c='r')\n",
        "plt.grid()\n",
        "plt.show()\n",
        "\n",
        "plt.plot(x_for_graph, g(x_for_graph, a, b), label='f(x)')\n",
        "plt.scatter(x_for_g, y_for_g, c='r')\n",
        "if x_for_f != x_for_g:\n",
        "  plt.scatter(second_x_for_g, y_for_g, c='r')\n",
        "plt.grid()\n",
        "plt.show()\n",
        "\n",
        "plt.show()"
      ],
      "metadata": {
        "colab": {
          "base_uri": "https://localhost:8080/",
          "height": 843
        },
        "id": "eu5kBbKbVVlS",
        "outputId": "6a3e2cb2-efa0-4e0a-d5d1-aa9c5af4774e"
      },
      "execution_count": null,
      "outputs": [
        {
          "output_type": "display_data",
          "data": {
            "text/plain": [
              "<Figure size 640x480 with 1 Axes>"
            ],
            "image/png": "[encoded data removed]"
          },
          "metadata": {}
        },
        {
          "output_type": "display_data",
          "data": {
            "text/plain": [
              "<Figure size 640x480 with 1 Axes>"
            ],
            "image/png": "[encoded data removed]"
          },
          "metadata": {}
        }
      ]
    }
  ]
}